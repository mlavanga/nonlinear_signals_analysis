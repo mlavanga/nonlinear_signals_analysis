{
 "cells": [
  {
   "cell_type": "markdown",
   "id": "1bdb3e45-fa89-470b-a7c2-5328f8d9524d",
   "metadata": {},
   "source": [
    "## White noise, fractional gaussian noise and brownian motion"
   ]
  },
  {
   "cell_type": "markdown",
   "id": "5e45efd1-84de-4788-84f3-172d488e3eec",
   "metadata": {},
   "source": [
    "## Import packages"
   ]
  },
  {
   "cell_type": "code",
   "execution_count": 3,
   "id": "6faa0370-f66e-4d05-9322-dc43724519f6",
   "metadata": {},
   "outputs": [],
   "source": [
    "import numpy as np\n",
    "import scipy as sp\n",
    "from src import py_msent\n",
    "import matplotlib.pyplot as plt\n",
    "import fathon\n",
    "from fathon import fathonUtils as fu\n",
    "import math\n",
    "import os\n",
    "import numpy as np\n",
    "from scipy.integrate import solve_ivp\n",
    "import matplotlib.pyplot as plt\n",
    "from mpl_toolkits.mplot3d import Axes3D\n",
    "import nolds\n"
   ]
  },
  {
   "cell_type": "markdown",
   "id": "8d06da4b-4d49-48ef-9160-aabf63e4573d",
   "metadata": {},
   "source": [
    "## White noise"
   ]
  },
  {
   "cell_type": "code",
   "execution_count": 5,
   "id": "935915b1-0dba-4ff3-a5f7-123583f867fa",
   "metadata": {},
   "outputs": [
    {
     "name": "stdout",
     "output_type": "stream",
     "text": [
      "/Users/mariolavanga/Documents/GitHub/nonlinear_signals_analysis\n",
      "/Users/mariolavanga/Documents/GitHub/nonlinear_signals_analysis/data/external/fathon_test\n"
     ]
    }
   ],
   "source": [
    "WD_PATH = os.path.dirname(os.getcwd())\n",
    "print(WD_PATH)\n",
    "separator    = ''\n",
    "fractal_path = separator.join([WD_PATH,'/data/external/fathon_test'])\n",
    "print(fractal_path)"
   ]
  },
  {
   "cell_type": "code",
   "execution_count": 37,
   "id": "020d72e1-f972-44eb-9bf6-13f8d3097d40",
   "metadata": {},
   "outputs": [
    {
     "data": {
      "text/plain": [
       "8000"
      ]
     },
     "execution_count": 37,
     "metadata": {},
     "output_type": "execute_result"
    }
   ],
   "source": [
    "wn = np.loadtxt(separator.join([fractal_path,'/whitenoise.txt']))\n",
    "wn.shape[0]"
   ]
  },
  {
   "cell_type": "markdown",
   "id": "1f89a5df-3fa5-4276-a968-1eae101ca020",
   "metadata": {},
   "source": [
    "## Correlation dimension "
   ]
  },
  {
   "cell_type": "markdown",
   "id": "c8623dc6-b9a9-4a61-9d9b-deba57f43f49",
   "metadata": {},
   "source": [
    "The Lorenz attractor is a strange attractor. Therefore, we can compute fractal dimension of the attractor area via correlation dimension. It is expected to be 2.06 according to Procaccia et al. 1983"
   ]
  },
  {
   "cell_type": "code",
   "execution_count": 8,
   "id": "ae7c024b-b830-424a-a38e-559af2786a02",
   "metadata": {},
   "outputs": [
    {
     "name": "stderr",
     "output_type": "stream",
     "text": [
      "/Users/mariolavanga/Documents/GitHub/nonlinear_signals_analysis/env/lib/python3.7/site-packages/nolds/measures.py:28: RuntimeWarning: fitting mode 'RANSAC' requires the package sklearn, using 'poly' instead\n",
      "  RuntimeWarning)\n"
     ]
    }
   ],
   "source": [
    "sd_x= np.std(wn, ddof=1)\n",
    "rvals_vect = nolds.logarithmic_r(0.01 * sd_x, 1.0* sd_x, 1.03)\n",
    "dim_corr,set_cr = nolds.corr_dim(wn,emb_dim=1, rvals=rvals_vect, debug_data=True)"
   ]
  },
  {
   "cell_type": "code",
   "execution_count": 9,
   "id": "48dcf805-18b6-4adc-9ec8-8baf3df7083d",
   "metadata": {},
   "outputs": [
    {
     "data": {
      "text/plain": [
       "[<matplotlib.lines.Line2D at 0x128a13ed0>]"
      ]
     },
     "execution_count": 9,
     "metadata": {},
     "output_type": "execute_result"
    },
    {
     "data": {
      "image/png": "[encoded data removed]",
      "text/plain": [
       "<Figure size 432x288 with 1 Axes>"
      ]
     },
     "metadata": {
      "needs_background": "light"
     },
     "output_type": "display_data"
    }
   ],
   "source": [
    "plt.plot(set_cr[0],set_cr[1])"
   ]
  },
  {
   "cell_type": "code",
   "execution_count": 10,
   "id": "da05bdf4-601f-4855-9249-bcd76b962950",
   "metadata": {},
   "outputs": [
    {
     "name": "stdout",
     "output_type": "stream",
     "text": [
      "0.9880216776445829\n"
     ]
    }
   ],
   "source": [
    "print(dim_corr)"
   ]
  },
  {
   "cell_type": "markdown",
   "id": "d6fe0c22-073d-4a22-b498-6ea92825ed41",
   "metadata": {},
   "source": [
    "## Sample Entropy"
   ]
  },
  {
   "cell_type": "markdown",
   "id": "0b7f2060-71d4-4c9b-ad48-1a2d846432c1",
   "metadata": {},
   "source": [
    "Estimation of entropy follows the concept of the correlation dimension."
   ]
  },
  {
   "cell_type": "code",
   "execution_count": 14,
   "id": "08444317-4432-48d9-b30b-3776355fe1ee",
   "metadata": {},
   "outputs": [
    {
     "data": {
      "text/plain": [
       "2.1825314118796038"
      ]
     },
     "execution_count": 14,
     "metadata": {},
     "output_type": "execute_result"
    }
   ],
   "source": [
    "sd_x       = np.std(wn, ddof=1)\n",
    "nolds.sampen(wn, emb_dim=1, tolerance= 0.2*sd_x)"
   ]
  },
  {
   "cell_type": "markdown",
   "id": "72df591e-ccb9-47b2-9d03-074324383485",
   "metadata": {},
   "source": [
    "## Hurst exponent"
   ]
  },
  {
   "cell_type": "markdown",
   "id": "10e8c036-cbe1-4367-9223-418b77677bc9",
   "metadata": {},
   "source": [
    "Estimation of the Hurst Exponent via Fathon"
   ]
  },
  {
   "cell_type": "code",
   "execution_count": 27,
   "id": "110bbd52-a44c-443e-9407-859676f364aa",
   "metadata": {},
   "outputs": [],
   "source": [
    "nMin = 8\n",
    "nMax = 2**10\n",
    "nScales = 32\n",
    "exponents = np.linspace(np.log2(nMin), np.log2(nMax), nScales)\n",
    "scales = np.round(np.power(2.0, exponents)).astype(np.int64)\n",
    "q_list = [-5, -3, -1, 1, 3, 5]"
   ]
  },
  {
   "cell_type": "code",
   "execution_count": 28,
   "id": "a436ace4-ecd1-4b03-926e-19bd591c89c7",
   "metadata": {},
   "outputs": [],
   "source": [
    "def get_idxs(vec, scales):\n",
    "    idxs = []\n",
    "    for s in scales:\n",
    "        idxs.append(np.where(vec==s)[0][0])\n",
    "    return idxs"
   ]
  },
  {
   "cell_type": "code",
   "execution_count": 29,
   "id": "1fe23f89-d622-454c-9724-47c01c802d94",
   "metadata": {},
   "outputs": [],
   "source": [
    "def test_mat_dfa_lorenz(x):\n",
    "    x_dfa = fathon.DFA(fu.toAggregated(x))\n",
    "    n_w, F_w = x_dfa.computeFlucVec(scales, revSeg=False, polOrd=1)\n",
    "    idxs = get_idxs(n_w, scales)\n",
    "    n_w = n_w[idxs]\n",
    "    F_w = F_w[idxs]\n",
    "    H, _ = np.polyfit(np.log2(n_w), np.log2(F_w), 1)\n",
    "    return H,n_w,F_w"
   ]
  },
  {
   "cell_type": "code",
   "execution_count": 30,
   "id": "22732d0f-6ecd-4461-8d54-4a284888f627",
   "metadata": {},
   "outputs": [
    {
     "name": "stdout",
     "output_type": "stream",
     "text": [
      "0.46920532119536806\n"
     ]
    }
   ],
   "source": [
    "H,n_w,F_w = test_mat_dfa_lorenz(wn)\n",
    "print(H)"
   ]
  },
  {
   "cell_type": "code",
   "execution_count": 31,
   "id": "ddaaa567-0da9-4ad3-88b9-2e48c0900ec4",
   "metadata": {},
   "outputs": [
    {
     "data": {
      "text/plain": [
       "<matplotlib.collections.PathCollection at 0x128bfe610>"
      ]
     },
     "execution_count": 31,
     "metadata": {},
     "output_type": "execute_result"
    },
    {
     "data": {
      "image/png": "[encoded data removed]",
      "text/plain": [
       "<Figure size 432x288 with 1 Axes>"
      ]
     },
     "metadata": {
      "needs_background": "light"
     },
     "output_type": "display_data"
    }
   ],
   "source": [
    "plt.scatter(np.log2(n_w), np.log2(F_w))"
   ]
  },
  {
   "cell_type": "markdown",
   "id": "154b3703-b689-47e9-a84a-982132ee74b7",
   "metadata": {},
   "source": [
    "Formula according with https://journals.aps.org/pre/abstract/10.1103/PhysRevE.53.5445. However, Hurst exponent is defined "
   ]
  },
  {
   "cell_type": "code",
   "execution_count": 32,
   "id": "fa1276df-06f5-4726-9e29-67a941ba5604",
   "metadata": {},
   "outputs": [
    {
     "name": "stdout",
     "output_type": "stream",
     "text": [
      "0.5059891611777085\n"
     ]
    }
   ],
   "source": [
    "Hurst_corrdim = 1-dim_corr/2\n",
    "print(Hurst_corrdim)"
   ]
  },
  {
   "cell_type": "markdown",
   "id": "fe1f9d7d-4075-4f19-9eba-42f74b18f80b",
   "metadata": {},
   "source": [
    "Estimation of Hurst via nolds"
   ]
  },
  {
   "cell_type": "code",
   "execution_count": 34,
   "id": "36b3e9bb-61ba-47f5-88a1-e185d20cd955",
   "metadata": {},
   "outputs": [
    {
     "name": "stdout",
     "output_type": "stream",
     "text": [
      "0.4987738519760821\n"
     ]
    },
    {
     "name": "stderr",
     "output_type": "stream",
     "text": [
      "/Users/mariolavanga/Documents/GitHub/nonlinear_signals_analysis/env/lib/python3.7/site-packages/nolds/measures.py:28: RuntimeWarning: fitting mode 'RANSAC' requires the package sklearn, using 'poly' instead\n",
      "  RuntimeWarning)\n"
     ]
    }
   ],
   "source": [
    "h = nolds.dfa(wn)\n",
    "print(h)"
   ]
  },
  {
   "cell_type": "markdown",
   "id": "6b9d9d5d-075d-46d8-903c-2c0df75fecac",
   "metadata": {},
   "source": [
    "## SPECTRUM Slope"
   ]
  },
  {
   "cell_type": "code",
   "execution_count": 38,
   "id": "7546780a-f6b9-4f3a-95fc-d155defcf578",
   "metadata": {},
   "outputs": [],
   "source": [
    "from scipy.signal import welch\n",
    "\n",
    "NSEG     = (wn.shape[0] + 1)/10\n",
    "NSEG_OV  = np.round(NSEG*0.5)\n",
    "f,PX = welch(wn, fs=1, window='hann', nperseg=NSEG, noverlap=NSEG_OV, nfft=None)"
   ]
  },
  {
   "cell_type": "code",
   "execution_count": 39,
   "id": "1c860182-6212-4aba-9c0a-77cad8403f91",
   "metadata": {},
   "outputs": [
    {
     "data": {
      "text/plain": [
       "[<matplotlib.lines.Line2D at 0x129e62410>]"
      ]
     },
     "execution_count": 39,
     "metadata": {},
     "output_type": "execute_result"
    },
    {
     "data": {
      "image/png": "[encoded data removed]",
      "text/plain": [
       "<Figure size 432x288 with 1 Axes>"
      ]
     },
     "metadata": {
      "needs_background": "light"
     },
     "output_type": "display_data"
    }
   ],
   "source": [
    "plt.plot(f,PX)"
   ]
  },
  {
   "cell_type": "code",
   "execution_count": 40,
   "id": "1ebe4723-d077-4681-a2c8-91fa29f546b7",
   "metadata": {},
   "outputs": [
    {
     "name": "stderr",
     "output_type": "stream",
     "text": [
      "/Users/mariolavanga/Documents/GitHub/nonlinear_signals_analysis/env/lib/python3.7/site-packages/ipykernel_launcher.py:2: RuntimeWarning: divide by zero encountered in log10\n",
      "  \n"
     ]
    },
    {
     "data": {
      "text/plain": [
       "[<matplotlib.lines.Line2D at 0x129edee10>]"
      ]
     },
     "execution_count": 40,
     "metadata": {},
     "output_type": "execute_result"
    },
    {
     "data": {
      "image/png": "[encoded data removed]",
      "text/plain": [
       "<Figure size 432x288 with 1 Axes>"
      ]
     },
     "metadata": {
      "needs_background": "light"
     },
     "output_type": "display_data"
    }
   ],
   "source": [
    "f_loc  = np.where(f<0.1)[0]\n",
    "plt.plot(np.log10(f[f_loc]),np.log10(PX[f_loc]))"
   ]
  },
  {
   "cell_type": "code",
   "execution_count": 42,
   "id": "8dfcca3b-6a0e-4729-9816-873d5844d4dd",
   "metadata": {},
   "outputs": [
    {
     "name": "stdout",
     "output_type": "stream",
     "text": [
      "0.036136265453128515\n"
     ]
    }
   ],
   "source": [
    "beta, _ = np.polyfit(np.log10(f[f_loc[1:]]),np.log10(PX[f_loc[1:]]), 1)\n",
    "print(beta)"
   ]
  },
  {
   "cell_type": "code",
   "execution_count": 43,
   "id": "fcbbb631-6b2a-4c15-b3f4-e659e19a3092",
   "metadata": {},
   "outputs": [
    {
     "name": "stdout",
     "output_type": "stream",
     "text": [
      "0.01197832235541707\n"
     ]
    }
   ],
   "source": [
    "beta_corrdim = 1-dim_corr\n",
    "print(beta_corrdim)"
   ]
  },
  {
   "cell_type": "markdown",
   "id": "3cf5c116-c834-4c43-b200-2a297218878c",
   "metadata": {},
   "source": [
    "## Fractional Brownian Motion: Hurst exponent and Spectrum Slope"
   ]
  },
  {
   "cell_type": "code",
   "execution_count": 153,
   "id": "86d522bc-2301-4cd6-ad65-d3ab6ed7d901",
   "metadata": {},
   "outputs": [],
   "source": [
    "N_bm_frac = 3000\n",
    "bm_frac   = nolds.fbm(N_bm_frac, H=0.75)"
   ]
  },
  {
   "cell_type": "code",
   "execution_count": 154,
   "id": "0bf90840-9aed-4319-be8d-118c37f1abbd",
   "metadata": {},
   "outputs": [
    {
     "data": {
      "text/plain": [
       "[<matplotlib.lines.Line2D at 0x12b1e1f50>]"
      ]
     },
     "execution_count": 154,
     "metadata": {},
     "output_type": "execute_result"
    },
    {
     "data": {
      "image/png": "[encoded data removed]",
      "text/plain": [
       "<Figure size 432x288 with 1 Axes>"
      ]
     },
     "metadata": {
      "needs_background": "light"
     },
     "output_type": "display_data"
    }
   ],
   "source": [
    "plt.plot(np.diff(bm_frac))"
   ]
  },
  {
   "cell_type": "markdown",
   "id": "baec8e5b-b46a-408b-b28c-cb166e1fe4c8",
   "metadata": {},
   "source": [
    "Estimation of the Hurst Exponent via Fathon"
   ]
  },
  {
   "cell_type": "code",
   "execution_count": 155,
   "id": "8e41ac90-983d-465c-9d96-0f1dfee06b27",
   "metadata": {},
   "outputs": [],
   "source": [
    "nMin = 16\n",
    "nMax = 2**10\n",
    "nScales = 32\n",
    "exponents = np.linspace(np.log2(nMin), np.log2(nMax), nScales)\n",
    "scales = np.round(np.power(2.0, exponents)).astype(np.int64)\n",
    "q_list = [-5, -3, -1, 1, 3, 5]"
   ]
  },
  {
   "cell_type": "code",
   "execution_count": 156,
   "id": "1ac39f26-906b-4fcd-b091-d13edb23c49e",
   "metadata": {},
   "outputs": [],
   "source": [
    "def get_idxs(vec, scales):\n",
    "    idxs = []\n",
    "    for s in scales:\n",
    "        idxs.append(np.where(vec==s)[0][0])\n",
    "    return idxs"
   ]
  },
  {
   "cell_type": "code",
   "execution_count": 157,
   "id": "2c5e78bb-f322-48f1-a1eb-c0739e5e6bd5",
   "metadata": {},
   "outputs": [],
   "source": [
    "def test_mat_dfa_lorenz(x):\n",
    "    x_dfa = fathon.DFA(fu.toAggregated(x))\n",
    "    n_w, F_w = x_dfa.computeFlucVec(scales, revSeg=False, polOrd=1)\n",
    "    idxs = get_idxs(n_w, scales)\n",
    "    n_w = n_w[idxs]\n",
    "    F_w = F_w[idxs]\n",
    "    H, _ = np.polyfit(np.log2(n_w), np.log2(F_w), 1)\n",
    "    return H,n_w,F_w"
   ]
  },
  {
   "cell_type": "code",
   "execution_count": 158,
   "id": "4eb3ad29-c5dc-43e6-9fe6-26a87541f49c",
   "metadata": {},
   "outputs": [
    {
     "name": "stdout",
     "output_type": "stream",
     "text": [
      "0.742896927421095\n"
     ]
    }
   ],
   "source": [
    "H,n_w,F_w = test_mat_dfa_lorenz(np.diff(bm_frac))\n",
    "print(H)"
   ]
  },
  {
   "cell_type": "code",
   "execution_count": 159,
   "id": "e4ed0236-c133-4bdd-9c53-fd7eea9f598a",
   "metadata": {},
   "outputs": [
    {
     "data": {
      "text/plain": [
       "<matplotlib.collections.PathCollection at 0x12b054dd0>"
      ]
     },
     "execution_count": 159,
     "metadata": {},
     "output_type": "execute_result"
    },
    {
     "data": {
      "image/png": "[encoded data removed]",
      "text/plain": [
       "<Figure size 432x288 with 1 Axes>"
      ]
     },
     "metadata": {
      "needs_background": "light"
     },
     "output_type": "display_data"
    }
   ],
   "source": [
    "plt.scatter(np.log2(n_w), np.log2(F_w))"
   ]
  },
  {
   "cell_type": "markdown",
   "id": "ffb1303f-9c72-4690-b363-90b314e7928b",
   "metadata": {},
   "source": [
    "Estimation of Hurst via nolds"
   ]
  },
  {
   "cell_type": "code",
   "execution_count": 160,
   "id": "f72d0238-5daf-4b4d-86d1-724764264f24",
   "metadata": {},
   "outputs": [
    {
     "name": "stdout",
     "output_type": "stream",
     "text": [
      "0.780583307474599\n"
     ]
    },
    {
     "name": "stderr",
     "output_type": "stream",
     "text": [
      "/Users/mariolavanga/Documents/GitHub/nonlinear_signals_analysis/env/lib/python3.7/site-packages/nolds/measures.py:28: RuntimeWarning: fitting mode 'RANSAC' requires the package sklearn, using 'poly' instead\n",
      "  RuntimeWarning)\n"
     ]
    }
   ],
   "source": [
    "h = nolds.dfa(np.diff(bm_frac))\n",
    "print(h)"
   ]
  },
  {
   "cell_type": "code",
   "execution_count": 161,
   "id": "0998c124-dbaf-45dc-a3f5-8b1f3bb2a435",
   "metadata": {},
   "outputs": [],
   "source": [
    "from scipy.signal import welch\n",
    "\n",
    "NSEG     = (N_bm_frac + 1)/20\n",
    "NSEG_OV  = np.round(NSEG*0.5)\n",
    "f,PX = welch(np.diff(bm_frac), fs=1, window='hann', nperseg=NSEG, noverlap=NSEG_OV, nfft=None)"
   ]
  },
  {
   "cell_type": "code",
   "execution_count": 162,
   "id": "3b98b35a-4631-43b4-86ef-f3052b095f02",
   "metadata": {},
   "outputs": [
    {
     "data": {
      "text/plain": [
       "[<matplotlib.lines.Line2D at 0x12b2f4490>]"
      ]
     },
     "execution_count": 162,
     "metadata": {},
     "output_type": "execute_result"
    },
    {
     "data": {
      "image/png": "[encoded data removed]",
      "text/plain": [
       "<Figure size 432x288 with 1 Axes>"
      ]
     },
     "metadata": {
      "needs_background": "light"
     },
     "output_type": "display_data"
    }
   ],
   "source": [
    "plt.plot(f,PX)"
   ]
  },
  {
   "cell_type": "code",
   "execution_count": 163,
   "id": "c3d736e1-f110-4ecc-94b2-2eb233accb96",
   "metadata": {},
   "outputs": [
    {
     "name": "stderr",
     "output_type": "stream",
     "text": [
      "/Users/mariolavanga/Documents/GitHub/nonlinear_signals_analysis/env/lib/python3.7/site-packages/ipykernel_launcher.py:2: RuntimeWarning: divide by zero encountered in log10\n",
      "  \n"
     ]
    },
    {
     "data": {
      "text/plain": [
       "[<matplotlib.lines.Line2D at 0x12b382350>]"
      ]
     },
     "execution_count": 163,
     "metadata": {},
     "output_type": "execute_result"
    },
    {
     "data": {
      "image/png": "[encoded data removed]",
      "text/plain": [
       "<Figure size 432x288 with 1 Axes>"
      ]
     },
     "metadata": {
      "needs_background": "light"
     },
     "output_type": "display_data"
    }
   ],
   "source": [
    "f_loc  = np.where(f<0.1)[0]\n",
    "plt.plot(np.log10(f[f_loc]),np.log10(PX[f_loc]))"
   ]
  },
  {
   "cell_type": "code",
   "execution_count": 164,
   "id": "d243fe3d-6732-430b-a5e4-0ab72d03fee2",
   "metadata": {},
   "outputs": [
    {
     "name": "stdout",
     "output_type": "stream",
     "text": [
      "-0.4760083028805555\n"
     ]
    }
   ],
   "source": [
    "beta, _ = np.polyfit(np.log10(f[f_loc[1:]]),np.log10(PX[f_loc[1:]]), 1)\n",
    "print(beta)"
   ]
  },
  {
   "cell_type": "code",
   "execution_count": 165,
   "id": "815e4641-7479-41f0-a58b-1bc5de995763",
   "metadata": {},
   "outputs": [
    {
     "name": "stdout",
     "output_type": "stream",
     "text": [
      "-0.48579385484219006\n"
     ]
    }
   ],
   "source": [
    "beta_hurst = -(2*H-1)\n",
    "print(beta_hurst)"
   ]
  },
  {
   "cell_type": "code",
   "execution_count": null,
   "id": "95fe9496-3657-45f9-8a33-a7239bab6589",
   "metadata": {},
   "outputs": [],
   "source": []
  },
  {
   "cell_type": "markdown",
   "id": "027856a7-9601-4e45-85d9-6a93013108aa",
   "metadata": {},
   "source": [
    "## Fractional Gaussian Noise: Hurst exponent and Spectrum Slope"
   ]
  },
  {
   "cell_type": "code",
   "execution_count": 166,
   "id": "ceccda1d-2799-43c6-85b8-8f00b9189711",
   "metadata": {},
   "outputs": [],
   "source": [
    "N_wn_frac = 2000\n",
    "wn_frac   = nolds.fgn(N_wn_frac, H=0.75)"
   ]
  },
  {
   "cell_type": "code",
   "execution_count": 167,
   "id": "54fa6525-73ca-4ab7-9cb2-93a889c98f77",
   "metadata": {},
   "outputs": [
    {
     "data": {
      "text/plain": [
       "[<matplotlib.lines.Line2D at 0x12b3fa490>]"
      ]
     },
     "execution_count": 167,
     "metadata": {},
     "output_type": "execute_result"
    },
    {
     "data": {
      "image/png": "[encoded data removed]",
      "text/plain": [
       "<Figure size 432x288 with 1 Axes>"
      ]
     },
     "metadata": {
      "needs_background": "light"
     },
     "output_type": "display_data"
    }
   ],
   "source": [
    "plt.plot(wn_frac)"
   ]
  },
  {
   "cell_type": "markdown",
   "id": "b4bf6ace-0946-4e32-8799-3a908ef7b8e3",
   "metadata": {},
   "source": [
    "Estimation of the Hurst Exponent via Fathon"
   ]
  },
  {
   "cell_type": "code",
   "execution_count": 168,
   "id": "aee7e9df-e499-4c6b-8d0f-afdb050efb5b",
   "metadata": {},
   "outputs": [],
   "source": [
    "nMin = 8\n",
    "nMax = 2**8\n",
    "nScales = 32\n",
    "exponents = np.linspace(np.log2(nMin), np.log2(nMax), nScales)\n",
    "scales = np.round(np.power(2.0, exponents)).astype(np.int64)\n",
    "q_list = [-5, -3, -1, 1, 3, 5]"
   ]
  },
  {
   "cell_type": "code",
   "execution_count": 169,
   "id": "441ef5b1-7c31-4363-8b3d-294ab47be3c4",
   "metadata": {},
   "outputs": [],
   "source": [
    "def get_idxs(vec, scales):\n",
    "    idxs = []\n",
    "    for s in scales:\n",
    "        idxs.append(np.where(vec==s)[0][0])\n",
    "    return idxs"
   ]
  },
  {
   "cell_type": "code",
   "execution_count": 170,
   "id": "bfaa9ef1-b99a-49f9-b5a8-3028684bf6a0",
   "metadata": {},
   "outputs": [],
   "source": [
    "def test_mat_dfa_lorenz(x):\n",
    "    x_dfa = fathon.DFA(fu.toAggregated(x))\n",
    "    n_w, F_w = x_dfa.computeFlucVec(scales, revSeg=False, polOrd=1)\n",
    "    idxs = get_idxs(n_w, scales)\n",
    "    n_w = n_w[idxs]\n",
    "    F_w = F_w[idxs]\n",
    "    H, _ = np.polyfit(np.log2(n_w), np.log2(F_w), 1)\n",
    "    return H,n_w,F_w"
   ]
  },
  {
   "cell_type": "code",
   "execution_count": 171,
   "id": "2173f553-aed9-4af2-b1b6-7cd95669a7ac",
   "metadata": {},
   "outputs": [
    {
     "name": "stdout",
     "output_type": "stream",
     "text": [
      "0.7610378788467208\n"
     ]
    }
   ],
   "source": [
    "H,n_w,F_w = test_mat_dfa_lorenz(wn_frac)\n",
    "print(H)"
   ]
  },
  {
   "cell_type": "code",
   "execution_count": 172,
   "id": "b49834ce-b005-42f3-88c4-0b82c0920fd6",
   "metadata": {},
   "outputs": [
    {
     "data": {
      "text/plain": [
       "<matplotlib.collections.PathCollection at 0x12b475510>"
      ]
     },
     "execution_count": 172,
     "metadata": {},
     "output_type": "execute_result"
    },
    {
     "data": {
      "image/png": "[encoded data removed]",
      "text/plain": [
       "<Figure size 432x288 with 1 Axes>"
      ]
     },
     "metadata": {
      "needs_background": "light"
     },
     "output_type": "display_data"
    }
   ],
   "source": [
    "plt.scatter(np.log2(n_w), np.log2(F_w))"
   ]
  },
  {
   "cell_type": "markdown",
   "id": "dafc2761-db98-4895-b92d-b23a465c8bac",
   "metadata": {},
   "source": [
    "Estimation of Hurst via nolds"
   ]
  },
  {
   "cell_type": "code",
   "execution_count": 173,
   "id": "26e5b100-e575-4550-94d7-bbf329303754",
   "metadata": {},
   "outputs": [
    {
     "name": "stdout",
     "output_type": "stream",
     "text": [
      "0.7822326475574396\n"
     ]
    },
    {
     "name": "stderr",
     "output_type": "stream",
     "text": [
      "/Users/mariolavanga/Documents/GitHub/nonlinear_signals_analysis/env/lib/python3.7/site-packages/nolds/measures.py:28: RuntimeWarning: fitting mode 'RANSAC' requires the package sklearn, using 'poly' instead\n",
      "  RuntimeWarning)\n"
     ]
    }
   ],
   "source": [
    "h = nolds.dfa(wn_frac)\n",
    "print(h)"
   ]
  },
  {
   "cell_type": "code",
   "execution_count": 174,
   "id": "41a857bf-bf6d-4188-b928-6d6d115b6ea7",
   "metadata": {},
   "outputs": [],
   "source": [
    "from scipy.signal import welch\n",
    "\n",
    "NSEG     = (N_wn_frac + 1)/20\n",
    "NSEG_OV  = np.round(NSEG*0.5)\n",
    "f,PX = welch(wn_frac, fs=1, window='hann', nperseg=NSEG, noverlap=NSEG_OV, nfft=None)"
   ]
  },
  {
   "cell_type": "code",
   "execution_count": 175,
   "id": "3476815c-0bfc-4218-99b4-1c003f60376e",
   "metadata": {},
   "outputs": [
    {
     "data": {
      "text/plain": [
       "[<matplotlib.lines.Line2D at 0x12b511690>]"
      ]
     },
     "execution_count": 175,
     "metadata": {},
     "output_type": "execute_result"
    },
    {
     "data": {
      "image/png": "[encoded data removed]",
      "text/plain": [
       "<Figure size 432x288 with 1 Axes>"
      ]
     },
     "metadata": {
      "needs_background": "light"
     },
     "output_type": "display_data"
    }
   ],
   "source": [
    "plt.plot(f,PX)"
   ]
  },
  {
   "cell_type": "code",
   "execution_count": 176,
   "id": "3ae0223e-1b13-449d-979b-ad43e3e05435",
   "metadata": {},
   "outputs": [
    {
     "name": "stderr",
     "output_type": "stream",
     "text": [
      "/Users/mariolavanga/Documents/GitHub/nonlinear_signals_analysis/env/lib/python3.7/site-packages/ipykernel_launcher.py:2: RuntimeWarning: divide by zero encountered in log10\n",
      "  \n"
     ]
    },
    {
     "data": {
      "text/plain": [
       "[<matplotlib.lines.Line2D at 0x12b58cd50>]"
      ]
     },
     "execution_count": 176,
     "metadata": {},
     "output_type": "execute_result"
    },
    {
     "data": {
      "image/png": "[encoded data removed]",
      "text/plain": [
       "<Figure size 432x288 with 1 Axes>"
      ]
     },
     "metadata": {
      "needs_background": "light"
     },
     "output_type": "display_data"
    }
   ],
   "source": [
    "f_loc  = np.where(f<0.2)[0]\n",
    "plt.plot(np.log10(f[f_loc]),np.log10(PX[f_loc]))"
   ]
  },
  {
   "cell_type": "code",
   "execution_count": 177,
   "id": "9e17a986-4791-44d1-a7e6-26ca958645e7",
   "metadata": {},
   "outputs": [
    {
     "name": "stdout",
     "output_type": "stream",
     "text": [
      "-0.5037182503567166\n"
     ]
    }
   ],
   "source": [
    "beta, _ = np.polyfit(np.log10(f[f_loc[1:]]),np.log10(PX[f_loc[1:]]), 1)\n",
    "print(beta)"
   ]
  },
  {
   "cell_type": "code",
   "execution_count": 178,
   "id": "8608588d-30fc-46d4-9478-7591d33f1288",
   "metadata": {},
   "outputs": [
    {
     "name": "stdout",
     "output_type": "stream",
     "text": [
      "-0.5220757576934416\n"
     ]
    }
   ],
   "source": [
    "beta_hurst = -(2*H-1)\n",
    "print(beta_hurst)"
   ]
  },
  {
   "cell_type": "code",
   "execution_count": null,
   "id": "5e3a9840-346d-4027-a777-313c51b7dada",
   "metadata": {},
   "outputs": [],
   "source": []
  },
  {
   "cell_type": "code",
   "execution_count": null,
   "id": "c8117701-96d9-4aac-8ea1-3a769aecd340",
   "metadata": {},
   "outputs": [],
   "source": []
  }
 ],
 "metadata": {
  "kernelspec": {
   "display_name": "Python 3 (ipykernel)",
   "language": "python",
   "name": "python3"
  },
  "language_info": {
   "codemirror_mode": {
    "name": "ipython",
    "version": 3
   },
   "file_extension": ".py",
   "mimetype": "text/x-python",
   "name": "python",
   "nbconvert_exporter": "python",
   "pygments_lexer": "ipython3",
   "version": "3.7.10"
  }
 },
 "nbformat": 4,
 "nbformat_minor": 5
}
