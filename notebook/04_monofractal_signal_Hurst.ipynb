{
 "cells": [
  {
   "cell_type": "markdown",
   "id": "1bdb3e45-fa89-470b-a7c2-5328f8d9524d",
   "metadata": {},
   "source": [
    "## Monfractal signals: White noise, fractional gaussian noise and brownian motion"
   ]
  },
  {
   "cell_type": "markdown",
   "id": "b941b4e5-460f-4cc7-99c2-aa0c702ffcdd",
   "metadata": {},
   "source": [
    "The Hurst exponent is a generic property of random walks and Brownian motions, which are defined also as monofractal signals for the concepts of self-similarity and fractality explained in the first tutorial. In this notebook, we delve into the estimation of the Hurst exponents for the fGN and fBM and its relationship with the power spectrum.  "
   ]
  },
  {
   "cell_type": "markdown",
   "id": "11404da1-8ca3-4b56-a890-e045316d9ff9",
   "metadata": {},
   "source": [
    "**Hurst exponent and brownian motion**"
   ]
  },
  {
   "cell_type": "markdown",
   "id": "23f09459-af05-4ecc-b364-27cb2fa53953",
   "metadata": {},
   "source": [
    "We defined fractional Brownian motion (fBM) as a cumulative sum of sequence $\\eta_i$, i.e. $B(t) = \\sum^{t}_{i=0}\\eta_i$, known also as random walk. The variable $\\eta_i$ is considered an instantaneous increment and the sequence of increments is defined as fractional Guassian noise (fGn). The mean-square displacement of the fBm and its derivative (fGn) have the following asymptotic behavior:   \n",
    "$$<|B(t) - B(t0)|>^2 \\sim |t-t_0|^{2H} = |t-t_0|^{2-d}$$\n",
    "where H is the Hurst Exponent and d is the geometrical dimension of the time series obtianed via box counting. "
   ]
  },
  {
   "cell_type": "markdown",
   "id": "aee310ba-b638-4a7a-97f2-521116e1dd50",
   "metadata": {},
   "source": [
    "**Detrend fluctuation analysis**"
   ]
  },
  {
   "cell_type": "markdown",
   "id": "62aba769-f473-4490-9953-dc177d2fa9e3",
   "metadata": {},
   "source": [
    "The DFA derives the Hurst exponent by means of the fluctuations function $F(n)$ , which is calculated as follows:\n",
    "1. The cumulative process of the time series $x(t)$ is derived by summing the successive deviations from the mean $<x>$:\n",
    "$Y(t) = \\sum^t_{t'=1}(x(t') - <x>) $\n",
    "2. The cumulative process $Y(t)$ is divided in non-overlapping windows of length $n$ for a total count of $N_n=\\frac{N}{n}$, where $N$ is the length of $x(t)$.\n",
    "3. In each interval, a polynomial trend $Y^{fit}_s(i)$ is then fitted for each interval $s$ of length $n$ (e.g. a linear trend ) and $F^2(n,s)=\\sum^n_{i=1}[(Y((s-1)n+i))-Y^{fit}_{s}(i)]^2$\n",
    "4. The fluctuation functions is then computed as: $$F^2(n)=[\\frac{1}{N_n}\\sum^{N_n}_{s=1}F^2(n,s)]^{1/2},$$ which is expected to scale as $n^H$, i.e. $F^2(n)\\sim n^{H}$. Threfore, one can estimate $H$ by compute the slope of $F(n)$ in a log-log graph, i.e. $\\log_2(F^2(n))\\sim H\\log_2{n}$."
   ]
  },
  {
   "cell_type": "markdown",
   "id": "235cf68f-4953-4699-a261-684f84f4a907",
   "metadata": {},
   "source": [
    "**Persistency classification by the Hurst Exponent**"
   ]
  },
  {
   "cell_type": "markdown",
   "id": "d2b09215-70c8-49bd-8d44-ee37d7325f58",
   "metadata": {},
   "source": [
    "1. $H \\in [0.0, 0.5)$ --> anti-persistency. The process under study is anti-persistent and tends\n",
    "to decrease (increase) after a previous increase (decrease). An anti-persistent process\n",
    "appears very noisy;\n",
    "2. $ H = 0.5 $ --> uncorrelated process;\n",
    "3. $ H \\in (0.5, 1.0]$--> persistency. If a process has been increasing (decreasing) for a period\n",
    "T, then it is expected to continue to increase (decrease) for a similar period. Persistent\n",
    "processes show long-range correlations and exhibit relatively little noise;\n",
    "4. $H > 1.0$ --> nonstationary process, stronger long-range correlations are present. However, when this is the case, you cannot have the overlap with the strange attractor (the Hurst exponent must be below 1, $H < 1.0$)"
   ]
  },
  {
   "cell_type": "markdown",
   "id": "5e45efd1-84de-4788-84f3-172d488e3eec",
   "metadata": {},
   "source": [
    "## Import packages"
   ]
  },
  {
   "cell_type": "code",
   "execution_count": 1,
   "id": "6faa0370-f66e-4d05-9322-dc43724519f6",
   "metadata": {},
   "outputs": [],
   "source": [
    "import numpy as np\n",
    "import scipy as sp\n",
    "from src import py_msent\n",
    "import matplotlib.pyplot as plt\n",
    "import fathon\n",
    "from fathon import fathonUtils as fu\n",
    "import math\n",
    "import os\n",
    "import numpy as np\n",
    "from scipy.integrate import solve_ivp\n",
    "import matplotlib.pyplot as plt\n",
    "from mpl_toolkits.mplot3d import Axes3D\n",
    "import nolds\n"
   ]
  },
  {
   "cell_type": "markdown",
   "id": "8d06da4b-4d49-48ef-9160-aabf63e4573d",
   "metadata": {},
   "source": [
    "## White noise"
   ]
  },
  {
   "cell_type": "code",
   "execution_count": 2,
   "id": "935915b1-0dba-4ff3-a5f7-123583f867fa",
   "metadata": {},
   "outputs": [
    {
     "name": "stdout",
     "output_type": "stream",
     "text": [
      "/Users/mariolavanga/Documents/GitHub/nonlinear_signals_analysis\n",
      "/Users/mariolavanga/Documents/GitHub/nonlinear_signals_analysis/data/external/fathon_test\n"
     ]
    }
   ],
   "source": [
    "WD_PATH = os.path.dirname(os.getcwd())\n",
    "print(WD_PATH)\n",
    "separator    = ''\n",
    "fractal_path = separator.join([WD_PATH,'/data/external/fathon_test'])\n",
    "print(fractal_path)"
   ]
  },
  {
   "cell_type": "code",
   "execution_count": 3,
   "id": "020d72e1-f972-44eb-9bf6-13f8d3097d40",
   "metadata": {},
   "outputs": [
    {
     "data": {
      "text/plain": [
       "8000"
      ]
     },
     "execution_count": 3,
     "metadata": {},
     "output_type": "execute_result"
    }
   ],
   "source": [
    "wn = np.loadtxt(separator.join([fractal_path,'/whitenoise.txt']))\n",
    "wn.shape[0]"
   ]
  },
  {
   "cell_type": "markdown",
   "id": "d6fe0c22-073d-4a22-b498-6ea92825ed41",
   "metadata": {},
   "source": [
    "## Sample Entropy"
   ]
  },
  {
   "cell_type": "markdown",
   "id": "0b7f2060-71d4-4c9b-ad48-1a2d846432c1",
   "metadata": {},
   "source": [
    "The Sample Entropy of a white noise process is normally higher than sample entropy of the Henon Map."
   ]
  },
  {
   "cell_type": "code",
   "execution_count": 4,
   "id": "08444317-4432-48d9-b30b-3776355fe1ee",
   "metadata": {},
   "outputs": [
    {
     "data": {
      "text/plain": [
       "2.1825314118796038"
      ]
     },
     "execution_count": 4,
     "metadata": {},
     "output_type": "execute_result"
    }
   ],
   "source": [
    "sd_x       = np.std(wn, ddof=1)\n",
    "nolds.sampen(wn, emb_dim=1, tolerance= 0.2*sd_x)"
   ]
  },
  {
   "cell_type": "markdown",
   "id": "72df591e-ccb9-47b2-9d03-074324383485",
   "metadata": {},
   "source": [
    "## Hurst exponent"
   ]
  },
  {
   "cell_type": "markdown",
   "id": "10e8c036-cbe1-4367-9223-418b77677bc9",
   "metadata": {},
   "source": [
    "Estimation of the Hurst Exponent via Fathon"
   ]
  },
  {
   "cell_type": "code",
   "execution_count": 5,
   "id": "110bbd52-a44c-443e-9407-859676f364aa",
   "metadata": {},
   "outputs": [],
   "source": [
    "nMin = 8\n",
    "nMax = 2**10\n",
    "nScales = 32\n",
    "exponents = np.linspace(np.log2(nMin), np.log2(nMax), nScales)\n",
    "scales = np.round(np.power(2.0, exponents)).astype(np.int64)\n",
    "q_list = [-5, -3, -1, 1, 3, 5]"
   ]
  },
  {
   "cell_type": "code",
   "execution_count": 6,
   "id": "a436ace4-ecd1-4b03-926e-19bd591c89c7",
   "metadata": {},
   "outputs": [],
   "source": [
    "def get_idxs(vec, scales):\n",
    "    idxs = []\n",
    "    for s in scales:\n",
    "        idxs.append(np.where(vec==s)[0][0])\n",
    "    return idxs"
   ]
  },
  {
   "cell_type": "code",
   "execution_count": 7,
   "id": "1fe23f89-d622-454c-9724-47c01c802d94",
   "metadata": {},
   "outputs": [],
   "source": [
    "def test_mat_dfa(x):\n",
    "    x_dfa = fathon.DFA(fu.toAggregated(x))\n",
    "    n_w, F_w = x_dfa.computeFlucVec(scales, revSeg=False, polOrd=1)\n",
    "    idxs = get_idxs(n_w, scales)\n",
    "    n_w = n_w[idxs]\n",
    "    F_w = F_w[idxs]\n",
    "    H, _ = np.polyfit(np.log2(n_w), np.log2(F_w), 1)\n",
    "    return H,n_w,F_w"
   ]
  },
  {
   "cell_type": "code",
   "execution_count": 8,
   "id": "22732d0f-6ecd-4461-8d54-4a284888f627",
   "metadata": {},
   "outputs": [
    {
     "name": "stdout",
     "output_type": "stream",
     "text": [
      "0.46920532119536806\n"
     ]
    }
   ],
   "source": [
    "H,n_w,F_w = test_mat_dfa(wn)\n",
    "print(H)"
   ]
  },
  {
   "cell_type": "code",
   "execution_count": 9,
   "id": "ddaaa567-0da9-4ad3-88b9-2e48c0900ec4",
   "metadata": {},
   "outputs": [
    {
     "data": {
      "text/plain": [
       "<matplotlib.collections.PathCollection at 0x1244f3910>"
      ]
     },
     "execution_count": 9,
     "metadata": {},
     "output_type": "execute_result"
    },
    {
     "data": {
      "image/png": "[encoded data removed]",
      "text/plain": [
       "<Figure size 432x288 with 1 Axes>"
      ]
     },
     "metadata": {
      "needs_background": "light"
     },
     "output_type": "display_data"
    }
   ],
   "source": [
    "plt.scatter(np.log2(n_w), np.log2(F_w))"
   ]
  },
  {
   "cell_type": "markdown",
   "id": "6b9d9d5d-075d-46d8-903c-2c0df75fecac",
   "metadata": {},
   "source": [
    "## Spectrum Slope"
   ]
  },
  {
   "cell_type": "markdown",
   "id": "2c5f8967-b305-4759-bb11-2d883ba1978b",
   "metadata": {},
   "source": [
    "The white noise is by definition a fractional gaussian noise. According to https://journals.plos.org/plosone/article?id=10.1371/journal.pone.0136661, the PSD $\\gamma(f)$ of fGN decays exponentially with a scaling parameter linked to $H$:\n",
    "$$\\gamma(f) \\sim C|f|^{-\\beta} = C|f|^{-(2H-1)}$$.\n",
    "\n",
    "Therefore, one can estimate the $H$ by looking the spectral decay by considering a log-log plot, i.e. $\\log(\\gamma(f))\\sim \\beta\\log{f}$, and applying the following formulas:"
   ]
  },
  {
   "cell_type": "markdown",
   "id": "541e0e9a-9a75-4a2a-8304-3af2feea276c",
   "metadata": {},
   "source": [
    "$$\\beta = (2H - 1)$$\n",
    "$$H = (\\beta + 1)/2$$"
   ]
  },
  {
   "cell_type": "code",
   "execution_count": 10,
   "id": "7546780a-f6b9-4f3a-95fc-d155defcf578",
   "metadata": {},
   "outputs": [],
   "source": [
    "from scipy.signal import welch\n",
    "\n",
    "NSEG     = (wn.shape[0] + 1)/10\n",
    "NSEG_OV  = np.round(NSEG*0.5)\n",
    "f,PX = welch(wn, fs=1, window='hann', nperseg=NSEG, noverlap=NSEG_OV, nfft=None)"
   ]
  },
  {
   "cell_type": "code",
   "execution_count": 11,
   "id": "1c860182-6212-4aba-9c0a-77cad8403f91",
   "metadata": {},
   "outputs": [
    {
     "data": {
      "text/plain": [
       "[<matplotlib.lines.Line2D at 0x131df52d0>]"
      ]
     },
     "execution_count": 11,
     "metadata": {},
     "output_type": "execute_result"
    },
    {
     "data": {
      "image/png": "[encoded data removed]",
      "text/plain": [
       "<Figure size 432x288 with 1 Axes>"
      ]
     },
     "metadata": {
      "needs_background": "light"
     },
     "output_type": "display_data"
    }
   ],
   "source": [
    "plt.plot(f,PX)"
   ]
  },
  {
   "cell_type": "code",
   "execution_count": 12,
   "id": "1ebe4723-d077-4681-a2c8-91fa29f546b7",
   "metadata": {},
   "outputs": [
    {
     "name": "stderr",
     "output_type": "stream",
     "text": [
      "/Users/mariolavanga/Documents/GitHub/nonlinear_signals_analysis/env/lib/python3.7/site-packages/ipykernel_launcher.py:2: RuntimeWarning: divide by zero encountered in log10\n",
      "  \n"
     ]
    },
    {
     "data": {
      "text/plain": [
       "[<matplotlib.lines.Line2D at 0x131e81390>]"
      ]
     },
     "execution_count": 12,
     "metadata": {},
     "output_type": "execute_result"
    },
    {
     "data": {
      "image/png": "[encoded data removed]",
      "text/plain": [
       "<Figure size 432x288 with 1 Axes>"
      ]
     },
     "metadata": {
      "needs_background": "light"
     },
     "output_type": "display_data"
    }
   ],
   "source": [
    "f_loc  = np.where(f<0.1)[0]\n",
    "plt.plot(np.log10(f[f_loc]),np.log10(PX[f_loc]))"
   ]
  },
  {
   "cell_type": "code",
   "execution_count": 13,
   "id": "8dfcca3b-6a0e-4729-9816-873d5844d4dd",
   "metadata": {},
   "outputs": [
    {
     "name": "stdout",
     "output_type": "stream",
     "text": [
      "0.036136265453128515\n"
     ]
    }
   ],
   "source": [
    "beta, _ = np.polyfit(np.log10(f[f_loc[1:]]),np.log10(PX[f_loc[1:]]), 1)\n",
    "print(beta)"
   ]
  },
  {
   "cell_type": "code",
   "execution_count": 14,
   "id": "a6f10ac2-f301-47d8-91be-851ec1521e5c",
   "metadata": {},
   "outputs": [
    {
     "name": "stdout",
     "output_type": "stream",
     "text": [
      "0.48193186727343573\n"
     ]
    }
   ],
   "source": [
    "hurst_beta = (beta*(-1)+1)/2\n",
    "print(hurst_beta)"
   ]
  },
  {
   "cell_type": "markdown",
   "id": "8339e8d4-69d3-49ac-a4e6-5b446940fb15",
   "metadata": {},
   "source": [
    "## Fractional Gaussian Noise: Hurst exponent and Spectrum Slope"
   ]
  },
  {
   "cell_type": "code",
   "execution_count": 15,
   "id": "6ff35783-2c3b-4cf2-8bef-be0bb5144dca",
   "metadata": {},
   "outputs": [],
   "source": [
    "N_wn_frac = 3000\n",
    "wn_frac   = nolds.fgn(N_wn_frac, H=0.75)"
   ]
  },
  {
   "cell_type": "code",
   "execution_count": 16,
   "id": "602a9ea0-d7bf-44a5-80e4-e9de3452cf17",
   "metadata": {},
   "outputs": [
    {
     "data": {
      "text/plain": [
       "[<matplotlib.lines.Line2D at 0x131f0e090>]"
      ]
     },
     "execution_count": 16,
     "metadata": {},
     "output_type": "execute_result"
    },
    {
     "data": {
      "image/png": "[encoded data removed]",
      "text/plain": [
       "<Figure size 432x288 with 1 Axes>"
      ]
     },
     "metadata": {
      "needs_background": "light"
     },
     "output_type": "display_data"
    }
   ],
   "source": [
    "plt.plot(wn_frac)"
   ]
  },
  {
   "cell_type": "markdown",
   "id": "8deac7f7-993e-4219-b902-33270d2cf564",
   "metadata": {},
   "source": [
    "The estimation of the Hurst exponent is based on the relationship between the $B(t)$ increments and the considered time scale. On top of that, the DFA assumes that you need to reconstruct the cumulative process before extimating X. Therefore, we derived the signal fGN as it is (without further preprocessing)."
   ]
  },
  {
   "cell_type": "markdown",
   "id": "bf0849b7-fdbd-4766-bfc7-c84c23939089",
   "metadata": {},
   "source": [
    "Estimation of the Hurst Exponent via Fathon"
   ]
  },
  {
   "cell_type": "code",
   "execution_count": 17,
   "id": "22c34dd3-b1b8-4feb-9bcc-33295999fa53",
   "metadata": {},
   "outputs": [],
   "source": [
    "nMin = 8\n",
    "nMax = 2**8\n",
    "nScales = 32\n",
    "exponents = np.linspace(np.log2(nMin), np.log2(nMax), nScales)\n",
    "scales = np.round(np.power(2.0, exponents)).astype(np.int64)\n",
    "q_list = [-5, -3, -1, 1, 3, 5]"
   ]
  },
  {
   "cell_type": "code",
   "execution_count": 18,
   "id": "587f8d3c-7b52-4f3e-a77d-ad55c0feb76b",
   "metadata": {},
   "outputs": [],
   "source": [
    "def get_idxs(vec, scales):\n",
    "    idxs = []\n",
    "    for s in scales:\n",
    "        idxs.append(np.where(vec==s)[0][0])\n",
    "    return idxs"
   ]
  },
  {
   "cell_type": "code",
   "execution_count": 19,
   "id": "26fa0808-bd59-4c13-8540-fe376bcb0aa2",
   "metadata": {},
   "outputs": [],
   "source": [
    "def test_mat_dfa(x):\n",
    "    x_dfa = fathon.DFA(fu.toAggregated(x))\n",
    "    n_w, F_w = x_dfa.computeFlucVec(scales, revSeg=False, polOrd=1)\n",
    "    idxs = get_idxs(n_w, scales)\n",
    "    n_w = n_w[idxs]\n",
    "    F_w = F_w[idxs]\n",
    "    H, _ = np.polyfit(np.log2(n_w), np.log2(F_w), 1)\n",
    "    return H,n_w,F_w"
   ]
  },
  {
   "cell_type": "code",
   "execution_count": 20,
   "id": "f8d8a5e4-f8a6-4324-a719-da9fd5b7be39",
   "metadata": {},
   "outputs": [
    {
     "name": "stdout",
     "output_type": "stream",
     "text": [
      "0.7096395228335507\n"
     ]
    }
   ],
   "source": [
    "H,n_w,F_w = test_mat_dfa(wn_frac)\n",
    "print(H)"
   ]
  },
  {
   "cell_type": "code",
   "execution_count": 21,
   "id": "9c680afa-4bb0-4459-92c2-0616c4d8666a",
   "metadata": {},
   "outputs": [
    {
     "data": {
      "text/plain": [
       "<matplotlib.collections.PathCollection at 0x131f9bcd0>"
      ]
     },
     "execution_count": 21,
     "metadata": {},
     "output_type": "execute_result"
    },
    {
     "data": {
      "image/png": "[encoded data removed]",
      "text/plain": [
       "<Figure size 432x288 with 1 Axes>"
      ]
     },
     "metadata": {
      "needs_background": "light"
     },
     "output_type": "display_data"
    }
   ],
   "source": [
    "plt.scatter(np.log2(n_w), np.log2(F_w))"
   ]
  },
  {
   "cell_type": "code",
   "execution_count": 22,
   "id": "6830d75c-9d92-43f5-841d-9c5bbc685225",
   "metadata": {},
   "outputs": [],
   "source": [
    "from scipy.signal import welch\n",
    "\n",
    "NSEG     = (N_wn_frac + 1)/20\n",
    "NSEG_OV  = np.round(NSEG*0.5)\n",
    "f,PX = welch(wn_frac, fs=1, window='hann', nperseg=NSEG, noverlap=NSEG_OV, nfft=None)"
   ]
  },
  {
   "cell_type": "code",
   "execution_count": 23,
   "id": "6815aeda-aab0-4229-b15c-c1c2cd8fe1bf",
   "metadata": {},
   "outputs": [
    {
     "data": {
      "text/plain": [
       "[<matplotlib.lines.Line2D at 0x132021d90>]"
      ]
     },
     "execution_count": 23,
     "metadata": {},
     "output_type": "execute_result"
    },
    {
     "data": {
      "image/png": "[encoded data removed]",
      "text/plain": [
       "<Figure size 432x288 with 1 Axes>"
      ]
     },
     "metadata": {
      "needs_background": "light"
     },
     "output_type": "display_data"
    }
   ],
   "source": [
    "plt.plot(f,PX)"
   ]
  },
  {
   "cell_type": "code",
   "execution_count": 24,
   "id": "f7b7e8c6-0c91-4cd7-8aa9-1e37f52a2bf4",
   "metadata": {},
   "outputs": [
    {
     "name": "stderr",
     "output_type": "stream",
     "text": [
      "/Users/mariolavanga/Documents/GitHub/nonlinear_signals_analysis/env/lib/python3.7/site-packages/ipykernel_launcher.py:2: RuntimeWarning: divide by zero encountered in log10\n",
      "  \n"
     ]
    },
    {
     "data": {
      "text/plain": [
       "[<matplotlib.lines.Line2D at 0x1320ae6d0>]"
      ]
     },
     "execution_count": 24,
     "metadata": {},
     "output_type": "execute_result"
    },
    {
     "data": {
      "image/png": "[encoded data removed]",
      "text/plain": [
       "<Figure size 432x288 with 1 Axes>"
      ]
     },
     "metadata": {
      "needs_background": "light"
     },
     "output_type": "display_data"
    }
   ],
   "source": [
    "f_loc  = np.where(f<0.2)[0]\n",
    "plt.plot(np.log10(f[f_loc]),np.log10(PX[f_loc]))"
   ]
  },
  {
   "cell_type": "code",
   "execution_count": 25,
   "id": "98958e84-8367-4f86-a8c3-4d37df4146b9",
   "metadata": {},
   "outputs": [
    {
     "name": "stdout",
     "output_type": "stream",
     "text": [
      "0.464637347816833\n"
     ]
    }
   ],
   "source": [
    "beta, _ = np.polyfit(np.log10(f[f_loc[1:]]),np.log10(PX[f_loc[1:]]), 1)\n",
    "print(beta*(-1))"
   ]
  },
  {
   "cell_type": "code",
   "execution_count": 26,
   "id": "42ec5e76-abc4-4dfb-8d9f-f71c5d676271",
   "metadata": {},
   "outputs": [
    {
     "name": "stdout",
     "output_type": "stream",
     "text": [
      "0.4192790456671014\n"
     ]
    }
   ],
   "source": [
    "beta_hurst = (2*H-1)\n",
    "print(beta_hurst)"
   ]
  },
  {
   "cell_type": "code",
   "execution_count": 27,
   "id": "81ef7b1a-0210-42e6-aaef-3e46effdcc77",
   "metadata": {},
   "outputs": [
    {
     "name": "stdout",
     "output_type": "stream",
     "text": [
      "0.7323186739084165\n"
     ]
    }
   ],
   "source": [
    "hurst_beta = (beta*(-1)+1)/2\n",
    "print(hurst_beta)"
   ]
  },
  {
   "cell_type": "markdown",
   "id": "3cf5c116-c834-4c43-b200-2a297218878c",
   "metadata": {},
   "source": [
    "## Fractional Brownian Motion: Hurst exponent and Spectrum Slope"
   ]
  },
  {
   "cell_type": "code",
   "execution_count": 28,
   "id": "86d522bc-2301-4cd6-ad65-d3ab6ed7d901",
   "metadata": {},
   "outputs": [],
   "source": [
    "N_bm_frac = 4000\n",
    "bm_frac   = nolds.fbm(N_bm_frac, H=0.75)"
   ]
  },
  {
   "cell_type": "code",
   "execution_count": 29,
   "id": "0bf90840-9aed-4319-be8d-118c37f1abbd",
   "metadata": {},
   "outputs": [
    {
     "data": {
      "text/plain": [
       "[<matplotlib.lines.Line2D at 0x131ecbb10>]"
      ]
     },
     "execution_count": 29,
     "metadata": {},
     "output_type": "execute_result"
    },
    {
     "data": {
      "image/png": "[encoded data removed]",
      "text/plain": [
       "<Figure size 432x288 with 1 Axes>"
      ]
     },
     "metadata": {
      "needs_background": "light"
     },
     "output_type": "display_data"
    }
   ],
   "source": [
    "plt.plot(bm_frac)"
   ]
  },
  {
   "cell_type": "markdown",
   "id": "b82cba18-8965-4137-be6d-d1927f2b6dc7",
   "metadata": {},
   "source": [
    "The estimation of the Hurst exponent is based on the relationship between the $B(t)$ increments and the considered time scale. On top of that, the DFA assumes that you need to reconstruct the cumulative process before extimating X. Therefore, we derived the derivative of fBM (which is a fGN)."
   ]
  },
  {
   "cell_type": "code",
   "execution_count": 30,
   "id": "aa61dbdf-20f4-4530-acfb-e3b35d5fcda6",
   "metadata": {},
   "outputs": [
    {
     "data": {
      "text/plain": [
       "[<matplotlib.lines.Line2D at 0x1321c9b90>]"
      ]
     },
     "execution_count": 30,
     "metadata": {},
     "output_type": "execute_result"
    },
    {
     "data": {
      "image/png": "[encoded data removed]",
      "text/plain": [
       "<Figure size 432x288 with 1 Axes>"
      ]
     },
     "metadata": {
      "needs_background": "light"
     },
     "output_type": "display_data"
    }
   ],
   "source": [
    "plt.plot(np.diff(bm_frac))"
   ]
  },
  {
   "cell_type": "markdown",
   "id": "baec8e5b-b46a-408b-b28c-cb166e1fe4c8",
   "metadata": {},
   "source": [
    "Estimation of the Hurst Exponent via Fathon"
   ]
  },
  {
   "cell_type": "code",
   "execution_count": 31,
   "id": "8e41ac90-983d-465c-9d96-0f1dfee06b27",
   "metadata": {},
   "outputs": [],
   "source": [
    "nMin = 16\n",
    "nMax = 2**10\n",
    "nScales = 32\n",
    "exponents = np.linspace(np.log2(nMin), np.log2(nMax), nScales)\n",
    "scales = np.round(np.power(2.0, exponents)).astype(np.int64)\n",
    "q_list = [-5, -3, -1, 1, 3, 5]"
   ]
  },
  {
   "cell_type": "code",
   "execution_count": 32,
   "id": "1ac39f26-906b-4fcd-b091-d13edb23c49e",
   "metadata": {},
   "outputs": [],
   "source": [
    "def get_idxs(vec, scales):\n",
    "    idxs = []\n",
    "    for s in scales:\n",
    "        idxs.append(np.where(vec==s)[0][0])\n",
    "    return idxs"
   ]
  },
  {
   "cell_type": "code",
   "execution_count": 33,
   "id": "2c5e78bb-f322-48f1-a1eb-c0739e5e6bd5",
   "metadata": {},
   "outputs": [],
   "source": [
    "def test_mat_dfa(x):\n",
    "    x_dfa = fathon.DFA(fu.toAggregated(x))\n",
    "    n_w, F_w = x_dfa.computeFlucVec(scales, revSeg=False, polOrd=1)\n",
    "    idxs = get_idxs(n_w, scales)\n",
    "    n_w = n_w[idxs]\n",
    "    F_w = F_w[idxs]\n",
    "    H, _ = np.polyfit(np.log2(n_w), np.log2(F_w), 1)\n",
    "    return H,n_w,F_w"
   ]
  },
  {
   "cell_type": "code",
   "execution_count": 34,
   "id": "4eb3ad29-c5dc-43e6-9fe6-26a87541f49c",
   "metadata": {},
   "outputs": [
    {
     "name": "stdout",
     "output_type": "stream",
     "text": [
      "0.7419169725346831\n"
     ]
    }
   ],
   "source": [
    "H,n_w,F_w = test_mat_dfa(np.diff(bm_frac))\n",
    "print(H)"
   ]
  },
  {
   "cell_type": "code",
   "execution_count": 35,
   "id": "e4ed0236-c133-4bdd-9c53-fd7eea9f598a",
   "metadata": {},
   "outputs": [
    {
     "data": {
      "text/plain": [
       "<matplotlib.collections.PathCollection at 0x132262fd0>"
      ]
     },
     "execution_count": 35,
     "metadata": {},
     "output_type": "execute_result"
    },
    {
     "data": {
      "image/png": "[encoded data removed]",
      "text/plain": [
       "<Figure size 432x288 with 1 Axes>"
      ]
     },
     "metadata": {
      "needs_background": "light"
     },
     "output_type": "display_data"
    }
   ],
   "source": [
    "plt.scatter(np.log2(n_w), np.log2(F_w))"
   ]
  },
  {
   "cell_type": "code",
   "execution_count": 36,
   "id": "0998c124-dbaf-45dc-a3f5-8b1f3bb2a435",
   "metadata": {},
   "outputs": [],
   "source": [
    "from scipy.signal import welch\n",
    "\n",
    "NSEG     = (N_bm_frac + 1)/20\n",
    "NSEG_OV  = np.round(NSEG*0.5)\n",
    "f,PX = welch(np.diff(bm_frac), fs=1, window='hann', nperseg=NSEG, noverlap=NSEG_OV, nfft=None)"
   ]
  },
  {
   "cell_type": "code",
   "execution_count": 37,
   "id": "3b98b35a-4631-43b4-86ef-f3052b095f02",
   "metadata": {},
   "outputs": [
    {
     "data": {
      "text/plain": [
       "[<matplotlib.lines.Line2D at 0x1322ee410>]"
      ]
     },
     "execution_count": 37,
     "metadata": {},
     "output_type": "execute_result"
    },
    {
     "data": {
      "image/png": "[encoded data removed]",
      "text/plain": [
       "<Figure size 432x288 with 1 Axes>"
      ]
     },
     "metadata": {
      "needs_background": "light"
     },
     "output_type": "display_data"
    }
   ],
   "source": [
    "plt.plot(f,PX)"
   ]
  },
  {
   "cell_type": "code",
   "execution_count": 38,
   "id": "c3d736e1-f110-4ecc-94b2-2eb233accb96",
   "metadata": {},
   "outputs": [
    {
     "name": "stderr",
     "output_type": "stream",
     "text": [
      "/Users/mariolavanga/Documents/GitHub/nonlinear_signals_analysis/env/lib/python3.7/site-packages/ipykernel_launcher.py:2: RuntimeWarning: divide by zero encountered in log10\n",
      "  \n"
     ]
    },
    {
     "data": {
      "text/plain": [
       "[<matplotlib.lines.Line2D at 0x132365b50>]"
      ]
     },
     "execution_count": 38,
     "metadata": {},
     "output_type": "execute_result"
    },
    {
     "data": {
      "image/png": "[encoded data removed]",
      "text/plain": [
       "<Figure size 432x288 with 1 Axes>"
      ]
     },
     "metadata": {
      "needs_background": "light"
     },
     "output_type": "display_data"
    }
   ],
   "source": [
    "f_loc  = np.where(f<0.1)[0]\n",
    "plt.plot(np.log10(f[f_loc]),np.log10(PX[f_loc]))"
   ]
  },
  {
   "cell_type": "code",
   "execution_count": 39,
   "id": "d243fe3d-6732-430b-a5e4-0ab72d03fee2",
   "metadata": {},
   "outputs": [
    {
     "name": "stdout",
     "output_type": "stream",
     "text": [
      "0.524594121757262\n"
     ]
    }
   ],
   "source": [
    "beta, _ = np.polyfit(np.log10(f[f_loc[1:]]),np.log10(PX[f_loc[1:]]), 1)\n",
    "print(beta*(-1))"
   ]
  },
  {
   "cell_type": "code",
   "execution_count": 40,
   "id": "815e4641-7479-41f0-a58b-1bc5de995763",
   "metadata": {},
   "outputs": [
    {
     "name": "stdout",
     "output_type": "stream",
     "text": [
      "0.4838339450693663\n"
     ]
    }
   ],
   "source": [
    "beta_hurst = (2*H-1)\n",
    "print(beta_hurst)"
   ]
  }
 ],
 "metadata": {
  "kernelspec": {
   "display_name": "Python 3 (ipykernel)",
   "language": "python",
   "name": "python3"
  },
  "language_info": {
   "codemirror_mode": {
    "name": "ipython",
    "version": 3
   },
   "file_extension": ".py",
   "mimetype": "text/x-python",
   "name": "python",
   "nbconvert_exporter": "python",
   "pygments_lexer": "ipython3",
   "version": "3.7.10"
  }
 },
 "nbformat": 4,
 "nbformat_minor": 5
}
